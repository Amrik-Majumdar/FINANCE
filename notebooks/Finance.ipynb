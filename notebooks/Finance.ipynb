{
  "nbformat": 4,
  "nbformat_minor": 0,
  "metadata": {
    "colab": {
      "provenance": []
    },
    "kernelspec": {
      "name": "python3",
      "display_name": "Python 3"
    },
    "language_info": {
      "name": "python"
    }
  },
  "cells": [
    {
      "cell_type": "code",
      "source": [
        "import numpy as np\n",
        "import pandas as pd\n",
        "import tensorflow as tf\n",
        "from tensorflow.keras.models import Sequential\n",
        "from tensorflow.keras.layers import LSTM, Dense, Dropout, MultiHeadAttention, LayerNormalization, Conv1D, GlobalAveragePooling1D\n",
        "from sklearn.preprocessing import MinMaxScaler\n",
        "from sklearn.model_selection import train_test_split\n",
        "import matplotlib.pyplot as plt"
      ],
      "metadata": {
        "id": "wF8WdzlJIXlp"
      },
      "execution_count": 11,
      "outputs": []
    },
    {
      "cell_type": "code",
      "execution_count": 2,
      "metadata": {
        "id": "TRhsEgqYFKpE"
      },
      "outputs": [],
      "source": [
        "import pandas as pd\n",
        "import os\n",
        "\n",
        "# Path where you've stored the CSV files\n",
        "data_path = '/content/drive/MyDrive/AIFinance'  # Change this to your actual path\n",
        "\n",
        "tickers = ['Amazon', 'Apple', 'Facebook', 'Google', 'Netflix']\n",
        "dfs = []\n",
        "\n",
        "for ticker in tickers:\n",
        "    try:\n",
        "        filepath = os.path.join(data_path, f'{ticker}.csv')\n",
        "        df = pd.read_csv(filepath)\n",
        "        df['Ticker'] = ticker\n",
        "        dfs.append(df)\n",
        "    except FileNotFoundError:\n",
        "        print(f\"File not found: {filepath}. Skipping {ticker}.\")\n",
        "\n",
        "if dfs:\n",
        "    combined_df = pd.concat(dfs)\n",
        "    combined_df['Date'] = pd.to_datetime(combined_df['Date'])\n",
        "    combined_df.sort_values(['Ticker', 'Date'], inplace=True)\n",
        "else:\n",
        "    print(\"No data files were found. Please check your file paths.\")"
      ]
    },
    {
      "cell_type": "code",
      "source": [
        "# Calculate technical indicators\n",
        "def add_technical_indicators(df):\n",
        "    # Daily returns\n",
        "    df['Daily_Return'] = df['Close'].pct_change()\n",
        "\n",
        "    # Moving Averages\n",
        "    df['MA_7'] = df['Close'].rolling(window=7).mean()\n",
        "    df['MA_21'] = df['Close'].rolling(window=21).mean()\n",
        "\n",
        "    # Volatility\n",
        "    df['Volatility'] = df['Daily_Return'].rolling(window=21).std()\n",
        "\n",
        "    # RSI\n",
        "    delta = df['Close'].diff()\n",
        "    gain = delta.where(delta > 0, 0)\n",
        "    loss = -delta.where(delta < 0, 0)\n",
        "    avg_gain = gain.rolling(window=14).mean()\n",
        "    avg_loss = loss.rolling(window=14).mean()\n",
        "    rs = avg_gain / avg_loss\n",
        "    df['RSI'] = 100 - (100 / (1 + rs))\n",
        "\n",
        "    return df\n",
        "\n",
        "# Apply to each stock\n",
        "combined_df = combined_df.groupby('Ticker').apply(add_technical_indicators)\n",
        "combined_df.dropna(inplace=True)"
      ],
      "metadata": {
        "colab": {
          "base_uri": "https://localhost:8080/"
        },
        "id": "IONc85wtFrze",
        "outputId": "27180bac-def7-4ef6-efdc-cd00f344119e"
      },
      "execution_count": 3,
      "outputs": [
        {
          "output_type": "stream",
          "name": "stderr",
          "text": [
            "<ipython-input-3-2314282056>:4: FutureWarning: The default fill_method='pad' in Series.pct_change is deprecated and will be removed in a future version. Either fill in any non-leading NA values prior to calling pct_change or specify 'fill_method=None' to not fill NA values.\n",
            "  df['Daily_Return'] = df['Close'].pct_change()\n",
            "<ipython-input-3-2314282056>:25: DeprecationWarning: DataFrameGroupBy.apply operated on the grouping columns. This behavior is deprecated, and in a future version of pandas the grouping columns will be excluded from the operation. Either pass `include_groups=False` to exclude the groupings or explicitly select the grouping columns after groupby to silence this warning.\n",
            "  combined_df = combined_df.groupby('Ticker').apply(add_technical_indicators)\n"
          ]
        }
      ]
    },
    {
      "cell_type": "code",
      "source": [
        "# Normalize features per stock\n",
        "scaler_dict = {}\n",
        "\n",
        "for ticker in tickers:\n",
        "    scaler = MinMaxScaler(feature_range=(0, 1))\n",
        "    ticker_data = combined_df[combined_df['Ticker'] == ticker]\n",
        "    scaled_data = scaler.fit_transform(ticker_data[['Close', 'Volume', 'MA_7', 'MA_21', 'Volatility', 'RSI']])\n",
        "    combined_df.loc[combined_df['Ticker'] == ticker, ['Close', 'Volume', 'MA_7', 'MA_21', 'Volatility', 'RSI']] = scaled_data\n",
        "    scaler_dict[ticker] = scaler"
      ],
      "metadata": {
        "id": "x7aDNY62FvnK"
      },
      "execution_count": 4,
      "outputs": []
    },
    {
      "cell_type": "code",
      "source": [
        "def create_sequences(data, sequence_length):\n",
        "    X, y = [], []\n",
        "    for i in range(len(data) - sequence_length):\n",
        "        X.append(data[i:i+sequence_length])\n",
        "        y.append(data[i+sequence_length, 0])  # 0 is the 'Close' price position\n",
        "    return np.array(X), np.array(y)\n",
        "\n",
        "sequence_length = 30  # Using 30 days of history\n",
        "X_all, y_all = {}, {}\n",
        "\n",
        "for ticker in tickers:\n",
        "    ticker_data = combined_df[combined_df['Ticker'] == ticker][['Close', 'Volume', 'MA_7', 'MA_21', 'Volatility', 'RSI']].values\n",
        "    X, y = create_sequences(ticker_data, sequence_length)\n",
        "    X_all[ticker], y_all[ticker] = X, y"
      ],
      "metadata": {
        "id": "qE2U2xmWFxo-"
      },
      "execution_count": 5,
      "outputs": []
    },
    {
      "cell_type": "code",
      "source": [
        "from tensorflow.keras.models import Sequential\n",
        "from tensorflow.keras.layers import LSTM, Dense, Dropout\n",
        "\n",
        "def build_lstm_model(input_shape):\n",
        "    model = Sequential([\n",
        "        LSTM(50, return_sequences=True, input_shape=input_shape),\n",
        "        Dropout(0.2),\n",
        "        LSTM(50, return_sequences=False),\n",
        "        Dropout(0.2),\n",
        "        Dense(25),\n",
        "        Dense(1)\n",
        "    ])\n",
        "\n",
        "    model.compile(optimizer='adam', loss='mean_squared_error')\n",
        "    return model\n",
        "\n",
        "# Example for one stock\n",
        "ticker = 'Amazon'\n",
        "X, y = X_all[ticker], y_all[ticker]\n",
        "\n",
        "# Split data\n",
        "split = int(0.8 * len(X))\n",
        "X_train, X_test = X[:split], X[split:]\n",
        "y_train, y_test = y[:split], y[split:]\n",
        "\n",
        "model = build_lstm_model((X_train.shape[1], X_train.shape[2]))\n",
        "model.fit(X_train, y_train,\n",
        "          batch_size=32,\n",
        "          epochs=50,\n",
        "          validation_data=(X_test, y_test))"
      ],
      "metadata": {
        "colab": {
          "base_uri": "https://localhost:8080/"
        },
        "id": "HY7PDQsmFzRi",
        "outputId": "eb28cf76-d52a-4639-e2c1-fe5cbb59f0d2"
      },
      "execution_count": 6,
      "outputs": [
        {
          "output_type": "stream",
          "name": "stderr",
          "text": [
            "/usr/local/lib/python3.11/dist-packages/keras/src/layers/rnn/rnn.py:200: UserWarning: Do not pass an `input_shape`/`input_dim` argument to a layer. When using Sequential models, prefer using an `Input(shape)` object as the first layer in the model instead.\n",
            "  super().__init__(**kwargs)\n"
          ]
        },
        {
          "output_type": "stream",
          "name": "stdout",
          "text": [
            "Epoch 1/50\n",
            "\u001b[1m145/145\u001b[0m \u001b[32m━━━━━━━━━━━━━━━━━━━━\u001b[0m\u001b[37m\u001b[0m \u001b[1m9s\u001b[0m 32ms/step - loss: 0.0012 - val_loss: 0.0041\n",
            "Epoch 2/50\n",
            "\u001b[1m145/145\u001b[0m \u001b[32m━━━━━━━━━━━━━━━━━━━━\u001b[0m\u001b[37m\u001b[0m \u001b[1m4s\u001b[0m 26ms/step - loss: 8.7406e-05 - val_loss: 0.0034\n",
            "Epoch 3/50\n",
            "\u001b[1m145/145\u001b[0m \u001b[32m━━━━━━━━━━━━━━━━━━━━\u001b[0m\u001b[37m\u001b[0m \u001b[1m4s\u001b[0m 29ms/step - loss: 6.0801e-05 - val_loss: 0.0026\n",
            "Epoch 4/50\n",
            "\u001b[1m145/145\u001b[0m \u001b[32m━━━━━━━━━━━━━━━━━━━━\u001b[0m\u001b[37m\u001b[0m \u001b[1m5s\u001b[0m 26ms/step - loss: 4.9327e-05 - val_loss: 0.0050\n",
            "Epoch 5/50\n",
            "\u001b[1m145/145\u001b[0m \u001b[32m━━━━━━━━━━━━━━━━━━━━\u001b[0m\u001b[37m\u001b[0m \u001b[1m4s\u001b[0m 26ms/step - loss: 4.0605e-05 - val_loss: 0.0035\n",
            "Epoch 6/50\n",
            "\u001b[1m145/145\u001b[0m \u001b[32m━━━━━━━━━━━━━━━━━━━━\u001b[0m\u001b[37m\u001b[0m \u001b[1m7s\u001b[0m 42ms/step - loss: 3.6338e-05 - val_loss: 0.0110\n",
            "Epoch 7/50\n",
            "\u001b[1m145/145\u001b[0m \u001b[32m━━━━━━━━━━━━━━━━━━━━\u001b[0m\u001b[37m\u001b[0m \u001b[1m4s\u001b[0m 25ms/step - loss: 3.6282e-05 - val_loss: 0.0059\n",
            "Epoch 8/50\n",
            "\u001b[1m145/145\u001b[0m \u001b[32m━━━━━━━━━━━━━━━━━━━━\u001b[0m\u001b[37m\u001b[0m \u001b[1m3s\u001b[0m 24ms/step - loss: 3.0878e-05 - val_loss: 0.0038\n",
            "Epoch 9/50\n",
            "\u001b[1m145/145\u001b[0m \u001b[32m━━━━━━━━━━━━━━━━━━━━\u001b[0m\u001b[37m\u001b[0m \u001b[1m4s\u001b[0m 27ms/step - loss: 3.2901e-05 - val_loss: 0.0076\n",
            "Epoch 10/50\n",
            "\u001b[1m145/145\u001b[0m \u001b[32m━━━━━━━━━━━━━━━━━━━━\u001b[0m\u001b[37m\u001b[0m \u001b[1m5s\u001b[0m 27ms/step - loss: 2.9776e-05 - val_loss: 0.0037\n",
            "Epoch 11/50\n",
            "\u001b[1m145/145\u001b[0m \u001b[32m━━━━━━━━━━━━━━━━━━━━\u001b[0m\u001b[37m\u001b[0m \u001b[1m6s\u001b[0m 30ms/step - loss: 2.8590e-05 - val_loss: 0.0046\n",
            "Epoch 12/50\n",
            "\u001b[1m145/145\u001b[0m \u001b[32m━━━━━━━━━━━━━━━━━━━━\u001b[0m\u001b[37m\u001b[0m \u001b[1m8s\u001b[0m 51ms/step - loss: 2.4088e-05 - val_loss: 0.0052\n",
            "Epoch 13/50\n",
            "\u001b[1m145/145\u001b[0m \u001b[32m━━━━━━━━━━━━━━━━━━━━\u001b[0m\u001b[37m\u001b[0m \u001b[1m7s\u001b[0m 31ms/step - loss: 2.6219e-05 - val_loss: 0.0043\n",
            "Epoch 14/50\n",
            "\u001b[1m145/145\u001b[0m \u001b[32m━━━━━━━━━━━━━━━━━━━━\u001b[0m\u001b[37m\u001b[0m \u001b[1m7s\u001b[0m 43ms/step - loss: 2.6786e-05 - val_loss: 0.0163\n",
            "Epoch 15/50\n",
            "\u001b[1m145/145\u001b[0m \u001b[32m━━━━━━━━━━━━━━━━━━━━\u001b[0m\u001b[37m\u001b[0m \u001b[1m8s\u001b[0m 25ms/step - loss: 3.4369e-05 - val_loss: 0.0055\n",
            "Epoch 16/50\n",
            "\u001b[1m145/145\u001b[0m \u001b[32m━━━━━━━━━━━━━━━━━━━━\u001b[0m\u001b[37m\u001b[0m \u001b[1m6s\u001b[0m 32ms/step - loss: 2.6574e-05 - val_loss: 0.0036\n",
            "Epoch 17/50\n",
            "\u001b[1m145/145\u001b[0m \u001b[32m━━━━━━━━━━━━━━━━━━━━\u001b[0m\u001b[37m\u001b[0m \u001b[1m4s\u001b[0m 27ms/step - loss: 2.8559e-05 - val_loss: 0.0022\n",
            "Epoch 18/50\n",
            "\u001b[1m145/145\u001b[0m \u001b[32m━━━━━━━━━━━━━━━━━━━━\u001b[0m\u001b[37m\u001b[0m \u001b[1m5s\u001b[0m 27ms/step - loss: 2.5141e-05 - val_loss: 0.0071\n",
            "Epoch 19/50\n",
            "\u001b[1m145/145\u001b[0m \u001b[32m━━━━━━━━━━━━━━━━━━━━\u001b[0m\u001b[37m\u001b[0m \u001b[1m5s\u001b[0m 28ms/step - loss: 2.7590e-05 - val_loss: 0.0029\n",
            "Epoch 20/50\n",
            "\u001b[1m145/145\u001b[0m \u001b[32m━━━━━━━━━━━━━━━━━━━━\u001b[0m\u001b[37m\u001b[0m \u001b[1m4s\u001b[0m 25ms/step - loss: 2.1553e-05 - val_loss: 0.0042\n",
            "Epoch 21/50\n",
            "\u001b[1m145/145\u001b[0m \u001b[32m━━━━━━━━━━━━━━━━━━━━\u001b[0m\u001b[37m\u001b[0m \u001b[1m4s\u001b[0m 27ms/step - loss: 2.5299e-05 - val_loss: 0.0030\n",
            "Epoch 22/50\n",
            "\u001b[1m145/145\u001b[0m \u001b[32m━━━━━━━━━━━━━━━━━━━━\u001b[0m\u001b[37m\u001b[0m \u001b[1m5s\u001b[0m 35ms/step - loss: 2.4394e-05 - val_loss: 0.0038\n",
            "Epoch 23/50\n",
            "\u001b[1m145/145\u001b[0m \u001b[32m━━━━━━━━━━━━━━━━━━━━\u001b[0m\u001b[37m\u001b[0m \u001b[1m4s\u001b[0m 26ms/step - loss: 2.3626e-05 - val_loss: 0.0049\n",
            "Epoch 24/50\n",
            "\u001b[1m145/145\u001b[0m \u001b[32m━━━━━━━━━━━━━━━━━━━━\u001b[0m\u001b[37m\u001b[0m \u001b[1m4s\u001b[0m 25ms/step - loss: 2.4890e-05 - val_loss: 0.0017\n",
            "Epoch 25/50\n",
            "\u001b[1m145/145\u001b[0m \u001b[32m━━━━━━━━━━━━━━━━━━━━\u001b[0m\u001b[37m\u001b[0m \u001b[1m7s\u001b[0m 34ms/step - loss: 2.3352e-05 - val_loss: 0.0050\n",
            "Epoch 26/50\n",
            "\u001b[1m145/145\u001b[0m \u001b[32m━━━━━━━━━━━━━━━━━━━━\u001b[0m\u001b[37m\u001b[0m \u001b[1m4s\u001b[0m 27ms/step - loss: 3.0011e-05 - val_loss: 0.0050\n",
            "Epoch 27/50\n",
            "\u001b[1m145/145\u001b[0m \u001b[32m━━━━━━━━━━━━━━━━━━━━\u001b[0m\u001b[37m\u001b[0m \u001b[1m5s\u001b[0m 25ms/step - loss: 2.6897e-05 - val_loss: 0.0045\n",
            "Epoch 28/50\n",
            "\u001b[1m145/145\u001b[0m \u001b[32m━━━━━━━━━━━━━━━━━━━━\u001b[0m\u001b[37m\u001b[0m \u001b[1m6s\u001b[0m 29ms/step - loss: 2.8429e-05 - val_loss: 0.0011\n",
            "Epoch 29/50\n",
            "\u001b[1m145/145\u001b[0m \u001b[32m━━━━━━━━━━━━━━━━━━━━\u001b[0m\u001b[37m\u001b[0m \u001b[1m4s\u001b[0m 27ms/step - loss: 1.9993e-05 - val_loss: 0.0012\n",
            "Epoch 30/50\n",
            "\u001b[1m145/145\u001b[0m \u001b[32m━━━━━━━━━━━━━━━━━━━━\u001b[0m\u001b[37m\u001b[0m \u001b[1m4s\u001b[0m 28ms/step - loss: 2.4025e-05 - val_loss: 0.0014\n",
            "Epoch 31/50\n",
            "\u001b[1m145/145\u001b[0m \u001b[32m━━━━━━━━━━━━━━━━━━━━\u001b[0m\u001b[37m\u001b[0m \u001b[1m6s\u001b[0m 39ms/step - loss: 2.0245e-05 - val_loss: 0.0015\n",
            "Epoch 32/50\n",
            "\u001b[1m145/145\u001b[0m \u001b[32m━━━━━━━━━━━━━━━━━━━━\u001b[0m\u001b[37m\u001b[0m \u001b[1m9s\u001b[0m 34ms/step - loss: 2.6440e-05 - val_loss: 0.0017\n",
            "Epoch 33/50\n",
            "\u001b[1m145/145\u001b[0m \u001b[32m━━━━━━━━━━━━━━━━━━━━\u001b[0m\u001b[37m\u001b[0m \u001b[1m5s\u001b[0m 34ms/step - loss: 1.9265e-05 - val_loss: 0.0011\n",
            "Epoch 34/50\n",
            "\u001b[1m145/145\u001b[0m \u001b[32m━━━━━━━━━━━━━━━━━━━━\u001b[0m\u001b[37m\u001b[0m \u001b[1m4s\u001b[0m 24ms/step - loss: 2.1767e-05 - val_loss: 0.0020\n",
            "Epoch 35/50\n",
            "\u001b[1m145/145\u001b[0m \u001b[32m━━━━━━━━━━━━━━━━━━━━\u001b[0m\u001b[37m\u001b[0m \u001b[1m4s\u001b[0m 24ms/step - loss: 2.1539e-05 - val_loss: 0.0034\n",
            "Epoch 36/50\n",
            "\u001b[1m145/145\u001b[0m \u001b[32m━━━━━━━━━━━━━━━━━━━━\u001b[0m\u001b[37m\u001b[0m \u001b[1m5s\u001b[0m 36ms/step - loss: 2.6010e-05 - val_loss: 0.0047\n",
            "Epoch 37/50\n",
            "\u001b[1m145/145\u001b[0m \u001b[32m━━━━━━━━━━━━━━━━━━━━\u001b[0m\u001b[37m\u001b[0m \u001b[1m4s\u001b[0m 25ms/step - loss: 1.9767e-05 - val_loss: 0.0011\n",
            "Epoch 38/50\n",
            "\u001b[1m145/145\u001b[0m \u001b[32m━━━━━━━━━━━━━━━━━━━━\u001b[0m\u001b[37m\u001b[0m \u001b[1m4s\u001b[0m 27ms/step - loss: 2.2972e-05 - val_loss: 7.8279e-04\n",
            "Epoch 39/50\n",
            "\u001b[1m145/145\u001b[0m \u001b[32m━━━━━━━━━━━━━━━━━━━━\u001b[0m\u001b[37m\u001b[0m \u001b[1m5s\u001b[0m 31ms/step - loss: 1.8910e-05 - val_loss: 0.0015\n",
            "Epoch 40/50\n",
            "\u001b[1m145/145\u001b[0m \u001b[32m━━━━━━━━━━━━━━━━━━━━\u001b[0m\u001b[37m\u001b[0m \u001b[1m4s\u001b[0m 30ms/step - loss: 2.2444e-05 - val_loss: 9.0119e-04\n",
            "Epoch 41/50\n",
            "\u001b[1m145/145\u001b[0m \u001b[32m━━━━━━━━━━━━━━━━━━━━\u001b[0m\u001b[37m\u001b[0m \u001b[1m4s\u001b[0m 24ms/step - loss: 2.1074e-05 - val_loss: 8.7305e-04\n",
            "Epoch 42/50\n",
            "\u001b[1m145/145\u001b[0m \u001b[32m━━━━━━━━━━━━━━━━━━━━\u001b[0m\u001b[37m\u001b[0m \u001b[1m4s\u001b[0m 27ms/step - loss: 2.2132e-05 - val_loss: 0.0011\n",
            "Epoch 43/50\n",
            "\u001b[1m145/145\u001b[0m \u001b[32m━━━━━━━━━━━━━━━━━━━━\u001b[0m\u001b[37m\u001b[0m \u001b[1m5s\u001b[0m 37ms/step - loss: 1.7318e-05 - val_loss: 0.0023\n",
            "Epoch 44/50\n",
            "\u001b[1m145/145\u001b[0m \u001b[32m━━━━━━━━━━━━━━━━━━━━\u001b[0m\u001b[37m\u001b[0m \u001b[1m4s\u001b[0m 27ms/step - loss: 2.2140e-05 - val_loss: 7.7269e-04\n",
            "Epoch 45/50\n",
            "\u001b[1m145/145\u001b[0m \u001b[32m━━━━━━━━━━━━━━━━━━━━\u001b[0m\u001b[37m\u001b[0m \u001b[1m5s\u001b[0m 25ms/step - loss: 2.0909e-05 - val_loss: 0.0018\n",
            "Epoch 46/50\n",
            "\u001b[1m145/145\u001b[0m \u001b[32m━━━━━━━━━━━━━━━━━━━━\u001b[0m\u001b[37m\u001b[0m \u001b[1m6s\u001b[0m 31ms/step - loss: 2.0219e-05 - val_loss: 0.0044\n",
            "Epoch 47/50\n",
            "\u001b[1m145/145\u001b[0m \u001b[32m━━━━━━━━━━━━━━━━━━━━\u001b[0m\u001b[37m\u001b[0m \u001b[1m4s\u001b[0m 24ms/step - loss: 2.7604e-05 - val_loss: 0.0014\n",
            "Epoch 48/50\n",
            "\u001b[1m145/145\u001b[0m \u001b[32m━━━━━━━━━━━━━━━━━━━━\u001b[0m\u001b[37m\u001b[0m \u001b[1m6s\u001b[0m 31ms/step - loss: 2.3142e-05 - val_loss: 0.0041\n",
            "Epoch 49/50\n",
            "\u001b[1m145/145\u001b[0m \u001b[32m━━━━━━━━━━━━━━━━━━━━\u001b[0m\u001b[37m\u001b[0m \u001b[1m5s\u001b[0m 29ms/step - loss: 2.0962e-05 - val_loss: 7.6230e-04\n",
            "Epoch 50/50\n",
            "\u001b[1m145/145\u001b[0m \u001b[32m━━━━━━━━━━━━━━━━━━━━\u001b[0m\u001b[37m\u001b[0m \u001b[1m4s\u001b[0m 25ms/step - loss: 2.0304e-05 - val_loss: 0.0030\n"
          ]
        },
        {
          "output_type": "execute_result",
          "data": {
            "text/plain": [
              "<keras.src.callbacks.history.History at 0x7e9040c18810>"
            ]
          },
          "metadata": {},
          "execution_count": 6
        }
      ]
    },
    {
      "cell_type": "code",
      "source": [
        "import matplotlib.pyplot as plt\n",
        "\n",
        "# Make predictions\n",
        "predictions = model.predict(X_test)\n",
        "\n",
        "# Inverse transform the scaling\n",
        "predictions = scaler_dict[ticker].inverse_transform(\n",
        "    np.concatenate((predictions, np.zeros((len(predictions), 5))), axis=1)\n",
        ")[:, 0]\n",
        "\n",
        "actual = scaler_dict[ticker].inverse_transform(\n",
        "    np.concatenate((y_test.reshape(-1, 1), np.zeros((len(y_test), 5))), axis=1)\n",
        ")[:, 0]\n",
        "\n",
        "# Plot results\n",
        "plt.figure(figsize=(14, 6))\n",
        "plt.plot(actual, label='Actual Price')\n",
        "plt.plot(predictions, label='Predicted Price')\n",
        "plt.title(f'{ticker} Stock Price Prediction')\n",
        "plt.xlabel('Time')\n",
        "plt.ylabel('Price')\n",
        "plt.legend()\n",
        "plt.show()"
      ],
      "metadata": {
        "colab": {
          "base_uri": "https://localhost:8080/",
          "height": 581
        },
        "id": "gVSlQKimF-FK",
        "outputId": "693ccee1-66a1-4b11-e4b2-981235ddab70"
      },
      "execution_count": 7,
      "outputs": [
        {
          "output_type": "stream",
          "name": "stdout",
          "text": [
            "\u001b[1m37/37\u001b[0m \u001b[32m━━━━━━━━━━━━━━━━━━━━\u001b[0m\u001b[37m\u001b[0m \u001b[1m1s\u001b[0m 26ms/step\n"
          ]
        },
        {
          "output_type": "display_data",
          "data": {
            "text/plain": [
              "<Figure size 1400x600 with 1 Axes>"
            ],
            "image/png": "[encoded data removed]"
          },
          "metadata": {}
        }
      ]
    },
    {
      "cell_type": "code",
      "source": [
        "from sklearn.ensemble import RandomForestRegressor\n",
        "from xgboost import XGBRegressor\n",
        "\n",
        "# Train additional models\n",
        "rf = RandomForestRegressor(n_estimators=100)\n",
        "rf.fit(X_train.reshape(X_train.shape[0], -1), y_train)\n",
        "\n",
        "xgb = XGBRegressor(n_estimators=100)\n",
        "xgb.fit(X_train.reshape(X_train.shape[0], -1), y_train)\n",
        "\n",
        "# Get predictions from all models\n",
        "lstm_pred = model.predict(X_test).flatten()\n",
        "rf_pred = rf.predict(X_test.reshape(X_test.shape[0], -1))\n",
        "xgb_pred = xgb.predict(X_test.reshape(X_test.shape[0], -1))\n",
        "\n",
        "# Simple average ensemble\n",
        "ensemble_pred = (lstm_pred + rf_pred + xgb_pred) / 3"
      ],
      "metadata": {
        "colab": {
          "base_uri": "https://localhost:8080/"
        },
        "id": "VnH8eflpGCEG",
        "outputId": "fa6f257e-a411-4b78-d0fb-b0f2ed5f0682"
      },
      "execution_count": 8,
      "outputs": [
        {
          "output_type": "stream",
          "name": "stdout",
          "text": [
            "\u001b[1m37/37\u001b[0m \u001b[32m━━━━━━━━━━━━━━━━━━━━\u001b[0m\u001b[37m\u001b[0m \u001b[1m0s\u001b[0m 9ms/step\n"
          ]
        }
      ]
    },
    {
      "cell_type": "code",
      "source": [
        "import tensorflow as tf\n",
        "from tensorflow.keras.layers import MultiHeadAttention, LayerNormalization\n",
        "\n",
        "def build_transformer_model(input_shape, head_size=64, num_heads=4, ff_dim=4):\n",
        "    inputs = tf.keras.Input(shape=input_shape)\n",
        "    x = inputs\n",
        "\n",
        "    # Normalization and Attention\n",
        "    x = LayerNormalization(epsilon=1e-6)(x)\n",
        "    x = MultiHeadAttention(\n",
        "        key_dim=head_size, num_heads=num_heads, dropout=0.1\n",
        "    )(x, x)\n",
        "    x = tf.keras.layers.Dropout(0.1)(x)\n",
        "    res = x + inputs\n",
        "\n",
        "    # Feed Forward Part\n",
        "    x = LayerNormalization(epsilon=1e-6)(res)\n",
        "    x = tf.keras.layers.Conv1D(filters=ff_dim, kernel_size=1, activation=\"relu\")(x)\n",
        "    x = tf.keras.layers.Dropout(0.1)(x)\n",
        "    x = tf.keras.layers.Conv1D(filters=input_shape[-1], kernel_size=1)(x)\n",
        "    x = x + res\n",
        "\n",
        "    # Final output\n",
        "    x = tf.keras.layers.GlobalAveragePooling1D()(x)\n",
        "    x = tf.keras.layers.Dropout(0.1)(x)\n",
        "    outputs = tf.keras.layers.Dense(1)(x)\n",
        "\n",
        "    return tf.keras.Model(inputs, outputs)\n",
        "\n",
        "# Build and compile the model\n",
        "transformer_model = build_transformer_model((X_train.shape[1], X_train.shape[2]))\n",
        "transformer_model.compile(optimizer='adam', loss='mean_squared_error')\n",
        "\n",
        "# Train the model\n",
        "history = transformer_model.fit(\n",
        "    X_train,\n",
        "    y_train,\n",
        "    epochs=50,\n",
        "    batch_size=32,\n",
        "    validation_data=(X_test, y_test),\n",
        "    verbose=1\n",
        ")"
      ],
      "metadata": {
        "colab": {
          "base_uri": "https://localhost:8080/"
        },
        "id": "zmEYkGi0GD5g",
        "outputId": "a7259b31-cc37-4934-ce9f-d3d54acfa95d"
      },
      "execution_count": 10,
      "outputs": [
        {
          "output_type": "stream",
          "name": "stdout",
          "text": [
            "Epoch 1/50\n",
            "\u001b[1m145/145\u001b[0m \u001b[32m━━━━━━━━━━━━━━━━━━━━\u001b[0m\u001b[37m\u001b[0m \u001b[1m9s\u001b[0m 24ms/step - loss: 0.0465 - val_loss: 0.0279\n",
            "Epoch 2/50\n",
            "\u001b[1m145/145\u001b[0m \u001b[32m━━━━━━━━━━━━━━━━━━━━\u001b[0m\u001b[37m\u001b[0m \u001b[1m3s\u001b[0m 22ms/step - loss: 0.0058 - val_loss: 0.0215\n",
            "Epoch 3/50\n",
            "\u001b[1m145/145\u001b[0m \u001b[32m━━━━━━━━━━━━━━━━━━━━\u001b[0m\u001b[37m\u001b[0m \u001b[1m4s\u001b[0m 29ms/step - loss: 0.0027 - val_loss: 0.0174\n",
            "Epoch 4/50\n",
            "\u001b[1m145/145\u001b[0m \u001b[32m━━━━━━━━━━━━━━━━━━━━\u001b[0m\u001b[37m\u001b[0m \u001b[1m4s\u001b[0m 26ms/step - loss: 0.0017 - val_loss: 0.0130\n",
            "Epoch 5/50\n",
            "\u001b[1m145/145\u001b[0m \u001b[32m━━━━━━━━━━━━━━━━━━━━\u001b[0m\u001b[37m\u001b[0m \u001b[1m4s\u001b[0m 21ms/step - loss: 0.0013 - val_loss: 0.0123\n",
            "Epoch 6/50\n",
            "\u001b[1m145/145\u001b[0m \u001b[32m━━━━━━━━━━━━━━━━━━━━\u001b[0m\u001b[37m\u001b[0m \u001b[1m7s\u001b[0m 32ms/step - loss: 0.0011 - val_loss: 0.0154\n",
            "Epoch 7/50\n",
            "\u001b[1m145/145\u001b[0m \u001b[32m━━━━━━━━━━━━━━━━━━━━\u001b[0m\u001b[37m\u001b[0m \u001b[1m4s\u001b[0m 21ms/step - loss: 9.5091e-04 - val_loss: 0.0228\n",
            "Epoch 8/50\n",
            "\u001b[1m145/145\u001b[0m \u001b[32m━━━━━━━━━━━━━━━━━━━━\u001b[0m\u001b[37m\u001b[0m \u001b[1m3s\u001b[0m 21ms/step - loss: 9.3761e-04 - val_loss: 0.0209\n",
            "Epoch 9/50\n",
            "\u001b[1m145/145\u001b[0m \u001b[32m━━━━━━━━━━━━━━━━━━━━\u001b[0m\u001b[37m\u001b[0m \u001b[1m6s\u001b[0m 31ms/step - loss: 8.2861e-04 - val_loss: 0.0222\n",
            "Epoch 10/50\n",
            "\u001b[1m145/145\u001b[0m \u001b[32m━━━━━━━━━━━━━━━━━━━━\u001b[0m\u001b[37m\u001b[0m \u001b[1m4s\u001b[0m 22ms/step - loss: 7.4340e-04 - val_loss: 0.0245\n",
            "Epoch 11/50\n",
            "\u001b[1m145/145\u001b[0m \u001b[32m━━━━━━━━━━━━━━━━━━━━\u001b[0m\u001b[37m\u001b[0m \u001b[1m5s\u001b[0m 21ms/step - loss: 6.9264e-04 - val_loss: 0.0278\n",
            "Epoch 12/50\n",
            "\u001b[1m145/145\u001b[0m \u001b[32m━━━━━━━━━━━━━━━━━━━━\u001b[0m\u001b[37m\u001b[0m \u001b[1m7s\u001b[0m 36ms/step - loss: 7.0328e-04 - val_loss: 0.0325\n",
            "Epoch 13/50\n",
            "\u001b[1m145/145\u001b[0m \u001b[32m━━━━━━━━━━━━━━━━━━━━\u001b[0m\u001b[37m\u001b[0m \u001b[1m3s\u001b[0m 21ms/step - loss: 6.5343e-04 - val_loss: 0.0318\n",
            "Epoch 14/50\n",
            "\u001b[1m145/145\u001b[0m \u001b[32m━━━━━━━━━━━━━━━━━━━━\u001b[0m\u001b[37m\u001b[0m \u001b[1m3s\u001b[0m 21ms/step - loss: 5.5876e-04 - val_loss: 0.0334\n",
            "Epoch 15/50\n",
            "\u001b[1m145/145\u001b[0m \u001b[32m━━━━━━━━━━━━━━━━━━━━\u001b[0m\u001b[37m\u001b[0m \u001b[1m4s\u001b[0m 28ms/step - loss: 5.0783e-04 - val_loss: 0.0353\n",
            "Epoch 16/50\n",
            "\u001b[1m145/145\u001b[0m \u001b[32m━━━━━━━━━━━━━━━━━━━━\u001b[0m\u001b[37m\u001b[0m \u001b[1m5s\u001b[0m 24ms/step - loss: 4.8783e-04 - val_loss: 0.0359\n",
            "Epoch 17/50\n",
            "\u001b[1m145/145\u001b[0m \u001b[32m━━━━━━━━━━━━━━━━━━━━\u001b[0m\u001b[37m\u001b[0m \u001b[1m3s\u001b[0m 21ms/step - loss: 4.9809e-04 - val_loss: 0.0281\n",
            "Epoch 18/50\n",
            "\u001b[1m145/145\u001b[0m \u001b[32m━━━━━━━━━━━━━━━━━━━━\u001b[0m\u001b[37m\u001b[0m \u001b[1m6s\u001b[0m 27ms/step - loss: 4.7094e-04 - val_loss: 0.0364\n",
            "Epoch 19/50\n",
            "\u001b[1m145/145\u001b[0m \u001b[32m━━━━━━━━━━━━━━━━━━━━\u001b[0m\u001b[37m\u001b[0m \u001b[1m4s\u001b[0m 29ms/step - loss: 3.9205e-04 - val_loss: 0.0452\n",
            "Epoch 20/50\n",
            "\u001b[1m145/145\u001b[0m \u001b[32m━━━━━━━━━━━━━━━━━━━━\u001b[0m\u001b[37m\u001b[0m \u001b[1m4s\u001b[0m 21ms/step - loss: 3.7067e-04 - val_loss: 0.0425\n",
            "Epoch 21/50\n",
            "\u001b[1m145/145\u001b[0m \u001b[32m━━━━━━━━━━━━━━━━━━━━\u001b[0m\u001b[37m\u001b[0m \u001b[1m3s\u001b[0m 21ms/step - loss: 4.0690e-04 - val_loss: 0.0380\n",
            "Epoch 22/50\n",
            "\u001b[1m145/145\u001b[0m \u001b[32m━━━━━━━━━━━━━━━━━━━━\u001b[0m\u001b[37m\u001b[0m \u001b[1m5s\u001b[0m 32ms/step - loss: 3.7120e-04 - val_loss: 0.0411\n",
            "Epoch 23/50\n",
            "\u001b[1m145/145\u001b[0m \u001b[32m━━━━━━━━━━━━━━━━━━━━\u001b[0m\u001b[37m\u001b[0m \u001b[1m3s\u001b[0m 23ms/step - loss: 3.5251e-04 - val_loss: 0.0379\n",
            "Epoch 24/50\n",
            "\u001b[1m145/145\u001b[0m \u001b[32m━━━━━━━━━━━━━━━━━━━━\u001b[0m\u001b[37m\u001b[0m \u001b[1m5s\u001b[0m 21ms/step - loss: 3.4889e-04 - val_loss: 0.0413\n",
            "Epoch 25/50\n",
            "\u001b[1m145/145\u001b[0m \u001b[32m━━━━━━━━━━━━━━━━━━━━\u001b[0m\u001b[37m\u001b[0m \u001b[1m7s\u001b[0m 35ms/step - loss: 3.5786e-04 - val_loss: 0.0390\n",
            "Epoch 26/50\n",
            "\u001b[1m145/145\u001b[0m \u001b[32m━━━━━━━━━━━━━━━━━━━━\u001b[0m\u001b[37m\u001b[0m \u001b[1m8s\u001b[0m 21ms/step - loss: 3.1241e-04 - val_loss: 0.0388\n",
            "Epoch 27/50\n",
            "\u001b[1m145/145\u001b[0m \u001b[32m━━━━━━━━━━━━━━━━━━━━\u001b[0m\u001b[37m\u001b[0m \u001b[1m7s\u001b[0m 31ms/step - loss: 3.1875e-04 - val_loss: 0.0371\n",
            "Epoch 28/50\n",
            "\u001b[1m145/145\u001b[0m \u001b[32m━━━━━━━━━━━━━━━━━━━━\u001b[0m\u001b[37m\u001b[0m \u001b[1m3s\u001b[0m 21ms/step - loss: 2.6105e-04 - val_loss: 0.0376\n",
            "Epoch 29/50\n",
            "\u001b[1m145/145\u001b[0m \u001b[32m━━━━━━━━━━━━━━━━━━━━\u001b[0m\u001b[37m\u001b[0m \u001b[1m5s\u001b[0m 21ms/step - loss: 2.9738e-04 - val_loss: 0.0390\n",
            "Epoch 30/50\n",
            "\u001b[1m145/145\u001b[0m \u001b[32m━━━━━━━━━━━━━━━━━━━━\u001b[0m\u001b[37m\u001b[0m \u001b[1m5s\u001b[0m 34ms/step - loss: 2.5393e-04 - val_loss: 0.0395\n",
            "Epoch 31/50\n",
            "\u001b[1m145/145\u001b[0m \u001b[32m━━━━━━━━━━━━━━━━━━━━\u001b[0m\u001b[37m\u001b[0m \u001b[1m4s\u001b[0m 24ms/step - loss: 2.6378e-04 - val_loss: 0.0384\n",
            "Epoch 32/50\n",
            "\u001b[1m145/145\u001b[0m \u001b[32m━━━━━━━━━━━━━━━━━━━━\u001b[0m\u001b[37m\u001b[0m \u001b[1m3s\u001b[0m 21ms/step - loss: 2.5957e-04 - val_loss: 0.0333\n",
            "Epoch 33/50\n",
            "\u001b[1m145/145\u001b[0m \u001b[32m━━━━━━━━━━━━━━━━━━━━\u001b[0m\u001b[37m\u001b[0m \u001b[1m7s\u001b[0m 33ms/step - loss: 2.7394e-04 - val_loss: 0.0363\n",
            "Epoch 34/50\n",
            "\u001b[1m145/145\u001b[0m \u001b[32m━━━━━━━━━━━━━━━━━━━━\u001b[0m\u001b[37m\u001b[0m \u001b[1m4s\u001b[0m 22ms/step - loss: 2.3859e-04 - val_loss: 0.0393\n",
            "Epoch 35/50\n",
            "\u001b[1m145/145\u001b[0m \u001b[32m━━━━━━━━━━━━━━━━━━━━\u001b[0m\u001b[37m\u001b[0m \u001b[1m5s\u001b[0m 21ms/step - loss: 2.3554e-04 - val_loss: 0.0378\n",
            "Epoch 36/50\n",
            "\u001b[1m145/145\u001b[0m \u001b[32m━━━━━━━━━━━━━━━━━━━━\u001b[0m\u001b[37m\u001b[0m \u001b[1m4s\u001b[0m 31ms/step - loss: 2.0557e-04 - val_loss: 0.0355\n",
            "Epoch 37/50\n",
            "\u001b[1m145/145\u001b[0m \u001b[32m━━━━━━━━━━━━━━━━━━━━\u001b[0m\u001b[37m\u001b[0m \u001b[1m5s\u001b[0m 37ms/step - loss: 2.0903e-04 - val_loss: 0.0385\n",
            "Epoch 38/50\n",
            "\u001b[1m145/145\u001b[0m \u001b[32m━━━━━━━━━━━━━━━━━━━━\u001b[0m\u001b[37m\u001b[0m \u001b[1m10s\u001b[0m 32ms/step - loss: 1.9053e-04 - val_loss: 0.0361\n",
            "Epoch 39/50\n",
            "\u001b[1m145/145\u001b[0m \u001b[32m━━━━━━━━━━━━━━━━━━━━\u001b[0m\u001b[37m\u001b[0m \u001b[1m3s\u001b[0m 23ms/step - loss: 1.9203e-04 - val_loss: 0.0408\n",
            "Epoch 40/50\n",
            "\u001b[1m145/145\u001b[0m \u001b[32m━━━━━━━━━━━━━━━━━━━━\u001b[0m\u001b[37m\u001b[0m \u001b[1m5s\u001b[0m 22ms/step - loss: 1.9135e-04 - val_loss: 0.0374\n",
            "Epoch 41/50\n",
            "\u001b[1m145/145\u001b[0m \u001b[32m━━━━━━━━━━━━━━━━━━━━\u001b[0m\u001b[37m\u001b[0m \u001b[1m4s\u001b[0m 27ms/step - loss: 1.8763e-04 - val_loss: 0.0367\n",
            "Epoch 42/50\n",
            "\u001b[1m145/145\u001b[0m \u001b[32m━━━━━━━━━━━━━━━━━━━━\u001b[0m\u001b[37m\u001b[0m \u001b[1m4s\u001b[0m 28ms/step - loss: 1.7205e-04 - val_loss: 0.0350\n",
            "Epoch 43/50\n",
            "\u001b[1m145/145\u001b[0m \u001b[32m━━━━━━━━━━━━━━━━━━━━\u001b[0m\u001b[37m\u001b[0m \u001b[1m3s\u001b[0m 22ms/step - loss: 1.7607e-04 - val_loss: 0.0382\n",
            "Epoch 44/50\n",
            "\u001b[1m145/145\u001b[0m \u001b[32m━━━━━━━━━━━━━━━━━━━━\u001b[0m\u001b[37m\u001b[0m \u001b[1m5s\u001b[0m 24ms/step - loss: 1.5255e-04 - val_loss: 0.0330\n",
            "Epoch 45/50\n",
            "\u001b[1m145/145\u001b[0m \u001b[32m━━━━━━━━━━━━━━━━━━━━\u001b[0m\u001b[37m\u001b[0m \u001b[1m5s\u001b[0m 24ms/step - loss: 1.6783e-04 - val_loss: 0.0375\n",
            "Epoch 46/50\n",
            "\u001b[1m145/145\u001b[0m \u001b[32m━━━━━━━━━━━━━━━━━━━━\u001b[0m\u001b[37m\u001b[0m \u001b[1m5s\u001b[0m 22ms/step - loss: 1.4954e-04 - val_loss: 0.0393\n",
            "Epoch 47/50\n",
            "\u001b[1m145/145\u001b[0m \u001b[32m━━━━━━━━━━━━━━━━━━━━\u001b[0m\u001b[37m\u001b[0m \u001b[1m4s\u001b[0m 24ms/step - loss: 1.4609e-04 - val_loss: 0.0317\n",
            "Epoch 48/50\n",
            "\u001b[1m145/145\u001b[0m \u001b[32m━━━━━━━━━━━━━━━━━━━━\u001b[0m\u001b[37m\u001b[0m \u001b[1m4s\u001b[0m 30ms/step - loss: 1.4527e-04 - val_loss: 0.0377\n",
            "Epoch 49/50\n",
            "\u001b[1m145/145\u001b[0m \u001b[32m━━━━━━━━━━━━━━━━━━━━\u001b[0m\u001b[37m\u001b[0m \u001b[1m4s\u001b[0m 22ms/step - loss: 1.5821e-04 - val_loss: 0.0317\n",
            "Epoch 50/50\n",
            "\u001b[1m145/145\u001b[0m \u001b[32m━━━━━━━━━━━━━━━━━━━━\u001b[0m\u001b[37m\u001b[0m \u001b[1m3s\u001b[0m 21ms/step - loss: 1.2848e-04 - val_loss: 0.0294\n"
          ]
        }
      ]
    },
    {
      "cell_type": "code",
      "source": [
        "def backtest(predictions, actual_prices, initial_capital=10000, transaction_cost=0.001):\n",
        "    capital = initial_capital\n",
        "    position = 0\n",
        "    returns = []\n",
        "\n",
        "    for i in range(1, len(predictions)):\n",
        "        predicted_return = (predictions[i] - actual_prices[i-1]) / actual_prices[i-1]\n",
        "\n",
        "        if predicted_return > 0.02:  # 2% expected return threshold\n",
        "            if position <= 0:\n",
        "                # Buy\n",
        "                capital -= capital * transaction_cost\n",
        "                position = capital / actual_prices[i]\n",
        "                capital = 0\n",
        "        elif predicted_return < -0.01:  # 1% stop-loss threshold\n",
        "            if position > 0:\n",
        "                # Sell\n",
        "                capital = position * actual_prices[i]\n",
        "                capital -= capital * transaction_cost\n",
        "                position = 0\n",
        "\n",
        "        current_value = capital + (position * actual_prices[i] if position > 0 else 0)\n",
        "        returns.append(current_value)\n",
        "\n",
        "    return returns"
      ],
      "metadata": {
        "id": "8rGZsDdzI8rO"
      },
      "execution_count": 12,
      "outputs": []
    },
    {
      "cell_type": "code",
      "source": [
        "from scipy.optimize import minimize\n",
        "\n",
        "def optimize_portfolio(expected_returns, cov_matrix, risk_aversion=0.5):\n",
        "    n_assets = len(expected_returns)\n",
        "\n",
        "    def objective(weights):\n",
        "        portfolio_return = np.dot(weights, expected_returns)\n",
        "        portfolio_risk = np.sqrt(np.dot(weights.T, np.dot(cov_matrix, weights)))\n",
        "        return - (portfolio_return - risk_aversion * portfolio_risk)\n",
        "\n",
        "    constraints = ({'type': 'eq', 'fun': lambda x: np.sum(x) - 1})\n",
        "    bounds = tuple((0, 1) for asset in range(n_assets))\n",
        "    initial_guess = np.array([1/n_assets] * n_assets)\n",
        "\n",
        "    result = minimize(objective, initial_guess, method='SLSQP', bounds=bounds, constraints=constraints)\n",
        "    return result.x"
      ],
      "metadata": {
        "id": "woUS2a4eI_Hc"
      },
      "execution_count": 13,
      "outputs": []
    },
    {
      "cell_type": "code",
      "source": [
        "def calculate_var(predictions, actuals, confidence_level=0.95):\n",
        "    errors = actuals - predictions\n",
        "    return np.percentile(errors, 100 * (1 - confidence_level))"
      ],
      "metadata": {
        "id": "TWlrbYHvJAEI"
      },
      "execution_count": 14,
      "outputs": []
    },
    {
      "cell_type": "code",
      "source": [
        "import plotly.graph_objects as go\n",
        "from plotly.subplots import make_subplots\n",
        "\n",
        "def create_dashboard(actual, predicted, ticker):\n",
        "    fig = make_subplots(rows=2, cols=1, shared_xaxes=True)\n",
        "\n",
        "    fig.add_trace(go.Scatter(y=actual, name='Actual', line=dict(color='blue')), row=1, col=1)\n",
        "    fig.add_trace(go.Scatter(y=predicted, name='Predicted', line=dict(color='red')), row=1, col=1)\n",
        "\n",
        "    errors = actual - predicted\n",
        "    fig.add_trace(go.Scatter(y=errors, name='Prediction Error', line=dict(color='green')), row=2, col=1)\n",
        "\n",
        "    fig.update_layout(title=f'{ticker} Stock Prediction Dashboard', hovermode='x unified')\n",
        "    fig.show()"
      ],
      "metadata": {
        "id": "l6Vdusg1JByy"
      },
      "execution_count": 15,
      "outputs": []
    },
    {
      "cell_type": "code",
      "source": [
        "model_save_path = '/content/drive/MyDrive/AIFinance/faang_transformer.h5'\n",
        "transformer_model.save(model_save_path)\n",
        "print(f\"Model saved to {model_save_path}\")"
      ],
      "metadata": {
        "colab": {
          "base_uri": "https://localhost:8080/"
        },
        "id": "GpJnO-YxJWH6",
        "outputId": "f38dad17-b57b-4a38-e571-7a360fb06d7e"
      },
      "execution_count": 18,
      "outputs": [
        {
          "output_type": "stream",
          "name": "stderr",
          "text": [
            "WARNING:absl:You are saving your model as an HDF5 file via `model.save()` or `keras.saving.save_model(model)`. This file format is considered legacy. We recommend using instead the native Keras format, e.g. `model.save('my_model.keras')` or `keras.saving.save_model(model, 'my_model.keras')`. \n"
          ]
        },
        {
          "output_type": "stream",
          "name": "stdout",
          "text": [
            "Model saved to /content/drive/MyDrive/AIFinance/faang_transformer.h5\n"
          ]
        }
      ]
    },
    {
      "cell_type": "code",
      "source": [
        "!ls '/content/drive/MyDrive/AIFinance'"
      ],
      "metadata": {
        "colab": {
          "base_uri": "https://localhost:8080/"
        },
        "id": "mOKqr9lcJ-YG",
        "outputId": "eee212f9-5bfb-4ee8-94cc-bb6f84a0403e"
      },
      "execution_count": 23,
      "outputs": [
        {
          "output_type": "stream",
          "name": "stdout",
          "text": [
            "Amazon.csv  faang_transformer.h5  Google.csv\n",
            "Apple.csv   Facebook.csv\t  Netflix.csv\n"
          ]
        }
      ]
    },
    {
      "cell_type": "code",
      "source": [
        "def predict_stock(ticker, new_data):\n",
        "    \"\"\"Preprocess and predict on new data\"\"\"\n",
        "    # Scale the new data using the saved scaler\n",
        "    scaler = scaler_dict[ticker]\n",
        "    new_data_scaled = scaler.transform(new_data)\n",
        "\n",
        "    # Reshape for model (assuming sequence_length=30)\n",
        "    new_data_reshaped = new_data_scaled.reshape(1, 30, -1)\n",
        "\n",
        "    # Predict\n",
        "    prediction = loaded_model.predict(new_data_reshaped)\n",
        "\n",
        "    # Inverse transform\n",
        "    dummy_data = np.zeros((1, new_data.shape[1]))\n",
        "    dummy_data[0,0] = prediction  # Assuming 'Close' price is first column\n",
        "    return scaler.inverse_transform(dummy_data)[0,0]\n",
        "\n",
        "# Example usage:\n",
        "# amazon_new_data = [...]  # Your fresh 30-day window of data\n",
        "# print(predict_stock('Amazon', amazon_new_data))"
      ],
      "metadata": {
        "id": "r8d3eL1NKHk4"
      },
      "execution_count": 24,
      "outputs": []
    },
    {
      "cell_type": "code",
      "source": [
        "!pip install fastapi nest-asyncio pyngrok uvicorn\n",
        "\n",
        "from fastapi import FastAPI\n",
        "import nest_asyncio\n",
        "from pyngrok import ngrok\n",
        "import uvicorn\n",
        "import numpy as np\n",
        "\n",
        "# 1. Configure ngrok - REPLACE THIS WITH YOUR ACTUAL TOKEN\n",
        "NGROK_AUTH_TOKEN = \"2yVxMJdZk5UcMDXITnhbQHAjHcG_6r4HTUT5qG6vPhZjtjNNu\"  # Must be in quotes!\n",
        "ngrok.set_auth_token(NGROK_AUTH_TOKEN)\n",
        "\n",
        "# 2. Create FastAPI app\n",
        "app = FastAPI()\n",
        "\n",
        "@app.get(\"/\")\n",
        "def home():\n",
        "    return {\"message\": \"FAANG Stock Predictor API\"}\n",
        "\n",
        "@app.post(\"/predict/{ticker}\")\n",
        "async def predict(ticker: str, data: list):\n",
        "    \"\"\"Make predictions for given ticker\"\"\"\n",
        "    try:\n",
        "        # Check if ticker exists\n",
        "        if ticker not in scaler_dict:\n",
        "            return {\"error\": f\"Unsupported ticker. Available: {list(scaler_dict.keys())}\"}\n",
        "\n",
        "        # Convert to numpy and validate shape\n",
        "        data_array = np.array(data)\n",
        "        if data_array.shape != (30, 6):  # 30 days, 6 features\n",
        "            return {\"error\": f\"Need (30, 6) array. Got {data_array.shape}\"}\n",
        "\n",
        "        # Scale and predict\n",
        "        scaler = scaler_dict[ticker]\n",
        "        data_scaled = scaler.transform(data_array)\n",
        "        prediction = loaded_model.predict(data_scaled.reshape(1, 30, 6))\n",
        "\n",
        "        # Inverse transform\n",
        "        dummy = np.zeros((1, 6))\n",
        "        dummy[0,0] = prediction[0,0]  # First column is Close price\n",
        "        predicted_close = scaler.inverse_transform(dummy)[0,0]\n",
        "\n",
        "        return {\n",
        "            \"ticker\": ticker,\n",
        "            \"predicted_close\": float(predicted_close),\n",
        "            \"status\": \"success\"\n",
        "        }\n",
        "\n",
        "    except Exception as e:\n",
        "        return {\"error\": str(e), \"status\": \"failed\"}\n",
        "\n",
        "# 3. Start the server\n",
        "if __name__ == \"__main__\":\n",
        "    try:\n",
        "        # Start ngrok tunnel\n",
        "        ngrok_tunnel = ngrok.connect(8000)\n",
        "        print('Public URL:', ngrok_tunnel.public_url)\n",
        "\n",
        "        # Allow nested async calls\n",
        "        nest_asyncio.apply()\n",
        "\n",
        "        # Start FastAPI\n",
        "        uvicorn.run(\n",
        "            app,\n",
        "            port=8000,\n",
        "            host='0.0.0.0'\n",
        "        )\n",
        "    except Exception as e:\n",
        "        print(f\"Error: {e}\")\n",
        "        print(\"Starting without ngrok (local only)\")\n",
        "        uvicorn.run(app, port=8000, host='0.0.0.0')"
      ],
      "metadata": {
        "colab": {
          "base_uri": "https://localhost:8080/"
        },
        "id": "s5ywu9NxKIr-",
        "outputId": "f2e8277b-5ade-492b-af85-9aa8c2efff83"
      },
      "execution_count": 30,
      "outputs": [
        {
          "output_type": "stream",
          "name": "stdout",
          "text": [
            "Requirement already satisfied: fastapi in /usr/local/lib/python3.11/dist-packages (0.115.12)\n",
            "Requirement already satisfied: nest-asyncio in /usr/local/lib/python3.11/dist-packages (1.6.0)\n",
            "Requirement already satisfied: pyngrok in /usr/local/lib/python3.11/dist-packages (7.2.11)\n",
            "Requirement already satisfied: uvicorn in /usr/local/lib/python3.11/dist-packages (0.34.3)\n",
            "Requirement already satisfied: starlette<0.47.0,>=0.40.0 in /usr/local/lib/python3.11/dist-packages (from fastapi) (0.46.2)\n",
            "Requirement already satisfied: pydantic!=1.8,!=1.8.1,!=2.0.0,!=2.0.1,!=2.1.0,<3.0.0,>=1.7.4 in /usr/local/lib/python3.11/dist-packages (from fastapi) (2.11.5)\n",
            "Requirement already satisfied: typing-extensions>=4.8.0 in /usr/local/lib/python3.11/dist-packages (from fastapi) (4.14.0)\n",
            "Requirement already satisfied: PyYAML>=5.1 in /usr/local/lib/python3.11/dist-packages (from pyngrok) (6.0.2)\n",
            "Requirement already satisfied: click>=7.0 in /usr/local/lib/python3.11/dist-packages (from uvicorn) (8.2.1)\n",
            "Requirement already satisfied: h11>=0.8 in /usr/local/lib/python3.11/dist-packages (from uvicorn) (0.16.0)\n",
            "Requirement already satisfied: annotated-types>=0.6.0 in /usr/local/lib/python3.11/dist-packages (from pydantic!=1.8,!=1.8.1,!=2.0.0,!=2.0.1,!=2.1.0,<3.0.0,>=1.7.4->fastapi) (0.7.0)\n",
            "Requirement already satisfied: pydantic-core==2.33.2 in /usr/local/lib/python3.11/dist-packages (from pydantic!=1.8,!=1.8.1,!=2.0.0,!=2.0.1,!=2.1.0,<3.0.0,>=1.7.4->fastapi) (2.33.2)\n",
            "Requirement already satisfied: typing-inspection>=0.4.0 in /usr/local/lib/python3.11/dist-packages (from pydantic!=1.8,!=1.8.1,!=2.0.0,!=2.0.1,!=2.1.0,<3.0.0,>=1.7.4->fastapi) (0.4.1)\n",
            "Requirement already satisfied: anyio<5,>=3.6.2 in /usr/local/lib/python3.11/dist-packages (from starlette<0.47.0,>=0.40.0->fastapi) (4.9.0)\n",
            "Requirement already satisfied: idna>=2.8 in /usr/local/lib/python3.11/dist-packages (from anyio<5,>=3.6.2->starlette<0.47.0,>=0.40.0->fastapi) (3.10)\n",
            "Requirement already satisfied: sniffio>=1.1 in /usr/local/lib/python3.11/dist-packages (from anyio<5,>=3.6.2->starlette<0.47.0,>=0.40.0->fastapi) (1.3.1)\n"
          ]
        },
        {
          "output_type": "stream",
          "name": "stderr",
          "text": [
            "ERROR:asyncio:Task exception was never retrieved\n",
            "future: <Task finished name='Task-1' coro=<Server.serve() done, defined at /usr/local/lib/python3.11/dist-packages/uvicorn/server.py:68> exception=KeyboardInterrupt()>\n",
            "Traceback (most recent call last):\n",
            "  File \"/usr/local/lib/python3.11/dist-packages/uvicorn/main.py\", line 580, in run\n",
            "    server.run()\n",
            "  File \"/usr/local/lib/python3.11/dist-packages/uvicorn/server.py\", line 66, in run\n",
            "    return asyncio.run(self.serve(sockets=sockets))\n",
            "           ^^^^^^^^^^^^^^^^^^^^^^^^^^^^^^^^^^^^^^^^\n",
            "  File \"/usr/local/lib/python3.11/dist-packages/nest_asyncio.py\", line 30, in run\n",
            "    return loop.run_until_complete(task)\n",
            "           ^^^^^^^^^^^^^^^^^^^^^^^^^^^^^\n",
            "  File \"/usr/local/lib/python3.11/dist-packages/nest_asyncio.py\", line 92, in run_until_complete\n",
            "    self._run_once()\n",
            "  File \"/usr/local/lib/python3.11/dist-packages/nest_asyncio.py\", line 133, in _run_once\n",
            "    handle._run()\n",
            "  File \"/usr/lib/python3.11/asyncio/events.py\", line 84, in _run\n",
            "    self._context.run(self._callback, *self._args)\n",
            "  File \"/usr/lib/python3.11/asyncio/tasks.py\", line 360, in __wakeup\n",
            "    self.__step()\n",
            "  File \"/usr/lib/python3.11/asyncio/tasks.py\", line 277, in __step\n",
            "    result = coro.send(None)\n",
            "             ^^^^^^^^^^^^^^^\n",
            "  File \"/usr/local/lib/python3.11/dist-packages/uvicorn/server.py\", line 69, in serve\n",
            "    with self.capture_signals():\n",
            "  File \"/usr/lib/python3.11/contextlib.py\", line 144, in __exit__\n",
            "    next(self.gen)\n",
            "  File \"/usr/local/lib/python3.11/dist-packages/uvicorn/server.py\", line 330, in capture_signals\n",
            "    signal.raise_signal(captured_signal)\n",
            "KeyboardInterrupt\n"
          ]
        },
        {
          "output_type": "stream",
          "name": "stdout",
          "text": [
            "Public URL: https://3e3e-34-48-171-148.ngrok-free.app\n"
          ]
        },
        {
          "output_type": "stream",
          "name": "stderr",
          "text": [
            "INFO:     Started server process [2290]\n",
            "INFO:     Waiting for application startup.\n",
            "INFO:     Application startup complete.\n",
            "INFO:     Uvicorn running on http://0.0.0.0:8000 (Press CTRL+C to quit)\n"
          ]
        },
        {
          "output_type": "stream",
          "name": "stdout",
          "text": [
            "INFO:     108.45.39.165:0 - \"GET / HTTP/1.1\" 200 OK\n",
            "INFO:     108.45.39.165:0 - \"GET /favicon.ico HTTP/1.1\" 404 Not Found\n"
          ]
        },
        {
          "output_type": "stream",
          "name": "stderr",
          "text": [
            "INFO:     Shutting down\n",
            "INFO:     Waiting for application shutdown.\n",
            "INFO:     Application shutdown complete.\n",
            "INFO:     Finished server process [2290]\n"
          ]
        }
      ]
    },
    {
      "cell_type": "code",
      "source": [
        "from fastapi.responses import JSONResponse\n",
        "from fastapi.encoders import jsonable_encoder\n",
        "\n",
        "@app.post(\"/predict/{ticker}\")\n",
        "async def predict(ticker: str, data: list):\n",
        "    try:\n",
        "        # Input validation\n",
        "        if ticker not in scaler_dict:\n",
        "            return JSONResponse(\n",
        "                status_code=400,\n",
        "                content=jsonable_encoder({\n",
        "                    \"error\": f\"Unsupported ticker. Available: {list(scaler_dict.keys())}\",\n",
        "                    \"status\": \"failed\"\n",
        "                })\n",
        "            )\n",
        "\n",
        "        # Convert and validate input\n",
        "        try:\n",
        "            data_array = np.array(data)\n",
        "            if data_array.shape != (30, 6):\n",
        "                raise ValueError(\"Invalid shape\")\n",
        "        except Exception as e:\n",
        "            return JSONResponse(\n",
        "                status_code=400,\n",
        "                content=jsonable_encoder({\n",
        "                    \"error\": f\"Invalid data format: {str(e)}. Expected 30 days × 6 features\",\n",
        "                    \"status\": \"failed\"\n",
        "                })\n",
        "            )\n",
        "\n",
        "        # Process prediction\n",
        "        scaler = scaler_dict[ticker]\n",
        "        data_scaled = scaler.transform(data_array)\n",
        "        prediction = loaded_model.predict(data_scaled.reshape(1, 30, 6))\n",
        "\n",
        "        # Inverse transform\n",
        "        dummy = np.zeros((1, 6))\n",
        "        dummy[0,0] = prediction[0,0]\n",
        "        predicted_close = scaler.inverse_transform(dummy)[0,0]\n",
        "\n",
        "        return JSONResponse(\n",
        "            status_code=200,\n",
        "            content=jsonable_encoder({\n",
        "                \"ticker\": ticker,\n",
        "                \"predicted_close\": float(predicted_close),\n",
        "                \"status\": \"success\"\n",
        "            })\n",
        "        )\n",
        "\n",
        "    except Exception as e:\n",
        "        return JSONResponse(\n",
        "            status_code=500,\n",
        "            content=jsonable_encoder({\n",
        "                \"error\": str(e),\n",
        "                \"status\": \"failed\"\n",
        "            })\n",
        "        )"
      ],
      "metadata": {
        "id": "WkVh_1c4MeXa"
      },
      "execution_count": 32,
      "outputs": []
    }
  ]
}